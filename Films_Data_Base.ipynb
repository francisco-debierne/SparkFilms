{
  "cells": [
    {
      "cell_type": "markdown",
      "source": [
        "# Install"
      ],
      "metadata": {
        "id": "pSuQ_gCXW-Mt"
      }
    },
    {
      "cell_type": "code",
      "execution_count": 4,
      "metadata": {
        "colab": {
          "base_uri": "https://localhost:8080/"
        },
        "id": "yWScDseZN18e",
        "outputId": "2392b8f1-aaa5-4b0a-99f5-97089a41c8a9"
      },
      "outputs": [
        {
          "output_type": "stream",
          "name": "stdout",
          "text": [
            "Looking in indexes: https://pypi.org/simple, https://us-python.pkg.dev/colab-wheels/public/simple/\n",
            "Collecting pyspark\n",
            "  Downloading pyspark-3.3.0.tar.gz (281.3 MB)\n",
            "\u001b[K     |████████████████████████████████| 281.3 MB 38 kB/s \n",
            "\u001b[?25hCollecting py4j==0.10.9.5\n",
            "  Downloading py4j-0.10.9.5-py2.py3-none-any.whl (199 kB)\n",
            "\u001b[K     |████████████████████████████████| 199 kB 61.9 MB/s \n",
            "\u001b[?25hBuilding wheels for collected packages: pyspark\n",
            "  Building wheel for pyspark (setup.py) ... \u001b[?25l\u001b[?25hdone\n",
            "  Created wheel for pyspark: filename=pyspark-3.3.0-py2.py3-none-any.whl size=281764026 sha256=cf043bdd5da3ee4b3aa3129cc57c3f4b35a5a17295c8cb124a2421b4947b96c6\n",
            "  Stored in directory: /root/.cache/pip/wheels/7a/8e/1b/f73a52650d2e5f337708d9f6a1750d451a7349a867f928b885\n",
            "Successfully built pyspark\n",
            "Installing collected packages: py4j, pyspark\n",
            "Successfully installed py4j-0.10.9.5 pyspark-3.3.0\n"
          ]
        }
      ],
      "source": [
        "! pip install pyspark"
      ]
    },
    {
      "cell_type": "markdown",
      "source": [
        "# Google"
      ],
      "metadata": {
        "id": "vwOyhKp21KsB"
      }
    },
    {
      "cell_type": "code",
      "source": [
        "import gspread\n",
        "from google.auth import default\n",
        "creds, _ = default()\n",
        "\n",
        "gc = gspread.authorize(creds)"
      ],
      "metadata": {
        "id": "5ZStMrOG1JkO"
      },
      "execution_count": 2,
      "outputs": []
    },
    {
      "cell_type": "markdown",
      "source": [
        "# Imports and Start the Spark Session"
      ],
      "metadata": {
        "id": "ZB0q_M_wXFxf"
      }
    },
    {
      "cell_type": "code",
      "source": [
        "import os\n",
        "os.environ[\"PYARROW_IGNORE_TIMEZONE\"] = \"1\""
      ],
      "metadata": {
        "id": "gk-zej_BWWfZ"
      },
      "execution_count": 14,
      "outputs": []
    },
    {
      "cell_type": "code",
      "execution_count": 13,
      "metadata": {
        "id": "iQTcSwYiSFuB"
      },
      "outputs": [],
      "source": [
        "import pyspark\n",
        "\n",
        "from pyspark.sql import SparkSession\n",
        "from pyspark.sql import functions as F\n",
        "from pyspark.sql.types import StructType,StructField, StringType, IntegerType, DateType\n",
        "\n",
        "import pyspark.pandas as ps\n"
      ]
    },
    {
      "cell_type": "code",
      "source": [
        "spark = (SparkSession.builder\n",
        "                    .master(\"local[*]\")\n",
        "                    .appName(\"Films\")\n",
        "                    .getOrCreate())\n",
        "\n",
        "spark"
      ],
      "metadata": {
        "id": "HvGMrGOrsiLY",
        "colab": {
          "base_uri": "https://localhost:8080/",
          "height": 219
        },
        "outputId": "92b0f82e-7caa-4d32-cc00-5699372a4b01"
      },
      "execution_count": 15,
      "outputs": [
        {
          "output_type": "execute_result",
          "data": {
            "text/plain": [
              "<pyspark.sql.session.SparkSession at 0x7fa3dc4f8d10>"
            ],
            "text/html": [
              "\n",
              "            <div>\n",
              "                <p><b>SparkSession - in-memory</b></p>\n",
              "                \n",
              "        <div>\n",
              "            <p><b>SparkContext</b></p>\n",
              "\n",
              "            <p><a href=\"http://50dd601239cc:4040\">Spark UI</a></p>\n",
              "\n",
              "            <dl>\n",
              "              <dt>Version</dt>\n",
              "                <dd><code>v3.3.0</code></dd>\n",
              "              <dt>Master</dt>\n",
              "                <dd><code>local[*]</code></dd>\n",
              "              <dt>AppName</dt>\n",
              "                <dd><code>Films</code></dd>\n",
              "            </dl>\n",
              "        </div>\n",
              "        \n",
              "            </div>\n",
              "        "
            ]
          },
          "metadata": {},
          "execution_count": 15
        }
      ]
    },
    {
      "cell_type": "markdown",
      "source": [
        "# Functions"
      ],
      "metadata": {
        "id": "kOl_uH8dXt5D"
      }
    },
    {
      "cell_type": "code",
      "source": [
        "PATH_NETFLIX_MOVIES = \"/content/drive/MyDrive/Solvimm/neteflix_data/movie_titles.csv\"\n",
        "PATH_NETFLIX_DATA_01 = \"/content/drive/MyDrive/Solvimm/neteflix_data/combined_data_1.txt\"\n",
        "PATH_NETFLIX_DATA_02 = \"/content/drive/MyDrive/Solvimm/neteflix_data/combined_data_2.txt\"\n",
        "PATH_NETFLIX_DATA_03 = \"/content/drive/MyDrive/Solvimm/neteflix_data/combined_data_3.txt\"\n",
        "PATH_NETFLIX_DATA_04 = \"/content/drive/MyDrive/Solvimm/neteflix_data/combined_data_4.txt\"\n",
        "\n",
        "PATH_AMAZON_DIGITAL_VIDEO = \"/content/drive/MyDrive/Solvimm/amazon_data/amazon_reviews_us_Digital_Video_Download_v1_00.tsv.gz\"\n",
        "PATH_AMAZON_VIDEO_DVD = \"/content/drive/MyDrive/Solvimm/amazon_data/amazon_reviews_us_Video_DVD_v1_00.tsv.gz\"\n",
        "PATH_AMAZON_VIDEO = \"/content/drive/MyDrive/Solvimm/amazon_data/amazon_reviews_us_Video_v1_00.tsv.gz\"\n",
        "\n",
        "PATH_OUTPUT = \"/content/drive/MyDrive/Solvimm\" "
      ],
      "metadata": {
        "id": "1w92FLS-3tci"
      },
      "execution_count": 21,
      "outputs": []
    },
    {
      "cell_type": "markdown",
      "source": [
        "## Amazon"
      ],
      "metadata": {
        "id": "w621djd0I9W0"
      }
    },
    {
      "cell_type": "code",
      "source": [
        "def amazon_transform_load():\n",
        "  \n",
        "  \"\"\" \n",
        "  Transform the amazon data. Create a spark dataframe and load the amazon data indo the Warehouse.\n",
        "  :param : \n",
        "  :return: A spark dataframe with a amazon transform dataset.\n",
        "  \"\"\"\n",
        "  \n",
        "  amazon_video_v1 = spark.read.option(\"header\",\"true\").option(\"delimiter\",\"\\t\").csv(PATH_AMAZON_DIGITAL_VIDEO)\n",
        "  amazon_digital_video = spark.read.option(\"header\",\"true\").option(\"delimiter\",\"\\t\").csv(PATH_AMAZON_VIDEO_DVD)\n",
        "  amazon_video = spark.read.option(\"header\",\"true\").option(\"delimiter\",\"\\t\").csv(PATH_AMAZON_VIDEO)\n",
        "\n",
        "  amazon_rating_all = amazon_video_v1.union(amazon_digital_video)\n",
        "  amazon_rating_all = amazon_rating_all.union(amazon_video)\n",
        "\n",
        "  amazon_rating_resume = amazon_rating_all .drop(F.col(\"marketplace\")).drop(F.col(\"customer_id\"))\\\n",
        "                             .drop(F.col(\"review_id\")).drop(F.col(\"product_id\"))\\\n",
        "                             .drop(F.col(\"product_parent\")).drop(F.col(\"product_category\")) \\\n",
        "                             .drop(F.col(\"helpful_votes\")).drop(F.col(\"total_votes\")) \\\n",
        "                             .drop(F.col(\"vine\")).drop(F.col(\"verified_purchase\")) \\\n",
        "                             .drop(F.col(\"review_headline\")).drop(F.col(\"review_body\")) \\\n",
        "                             .drop(F.col(\"review_date\")) \n",
        "\n",
        "  amazon_rating_resume  = amazon_rating_resume .withColumn(\"product_title\", amazon_rating_resume.product_title.cast(StringType()))\n",
        "  amazon_rating_resume  = amazon_rating_resume .withColumn(\"star_rating\", amazon_rating_resume.star_rating.cast(IntegerType()))\n",
        " \n",
        "  amazon_rating_resume.write.option(\"header\",\"True\").csv(PATH_OUTPUT+\"/data_warehouse/solvimm.db/amazon_data\", 'overwrite')\n",
        "  \n",
        "  return amazon_rating_resume  "
      ],
      "metadata": {
        "id": "U8hD5E29NBmG"
      },
      "execution_count": 23,
      "outputs": []
    },
    {
      "cell_type": "markdown",
      "source": [
        "## Netflix"
      ],
      "metadata": {
        "id": "0GKiJBLzJRjZ"
      }
    },
    {
      "cell_type": "code",
      "source": [
        "def netflix_data_preprocessing ():\n",
        "\n",
        "  \"\"\" \n",
        "  Make a pre proprocessing on netflix data to ajust the format. \n",
        "  :param db_file: \n",
        "  :return: A spark dataframe with the pre processed data.\n",
        "  \"\"\"\n",
        "\n",
        "  \n",
        "  # file to store all imported data\n",
        "  if not os.path.isfile('/content/data.csv'):\n",
        "      data = open('data.csv', mode='w')\n",
        "      data.write( 'MovieIDs,CustomerIDs,Ratings,Dates')\n",
        "      data.write('\\n')\n",
        "      \n",
        "      files = [ PATH_NETFLIX_DATA_01,\n",
        "                PATH_NETFLIX_DATA_02,\n",
        "                PATH_NETFLIX_DATA_03,\n",
        "                PATH_NETFLIX_DATA_04 ]\n",
        "\n",
        "      # Remove the line with movie_id: and add a new column of movie_id\n",
        "      # Combine all data files into a csv file\n",
        "      for file in files:\n",
        "        print(\"Opening file: {}\".format(file))\n",
        "        with open(file) as f:\n",
        "          for line in f:\n",
        "              line = line.strip()\n",
        "              if line.endswith(':'):\n",
        "                  movie_id = line.replace(':', '')\n",
        "              else:\n",
        "                  data.write(movie_id + ',' + line)\n",
        "                  data.write('\\n')\n",
        "      data.close()\n",
        "      print(\"Pre-processing is done\")\n",
        "    \n",
        "  else:\n",
        "    print(\"Data alreday pre_processed\") \n",
        "  \n",
        "  return"
      ],
      "metadata": {
        "id": "SP7bPrdsND4f"
      },
      "execution_count": 24,
      "outputs": []
    },
    {
      "cell_type": "code",
      "source": [
        "def netflix_transform_load():\n",
        "\n",
        "  \"\"\" \n",
        "  Transform the netflix data. Create a spark dataframe and load the netflix data indo the Warehouse.\n",
        "  :param : \n",
        "  :return: A spark dataframe with a amazon transform dataset.\n",
        "  \"\"\"\n",
        "\n",
        "  netflix_data_preprocessing ()\n",
        "\n",
        "  schema_rating = StructType([StructField(\"movie_ids\",StringType(),True), \n",
        "                            StructField(\"customer_ids\",StringType(),True),\n",
        "                            StructField(\"ratings\",IntegerType(),True), \n",
        "                            StructField(\"dates\", DateType(), True) ])\n",
        "  \n",
        "  netflix_rating = (spark.read.option(\"header\",\"true\").option(\"delimiter\",\",\")\n",
        "                              .schema(schema_rating).csv(\"/content/data.csv\"))\n",
        "  \n",
        "  netflix_rating.write.option(\"header\",\"True\").csv(PATH_OUTPUT+\"/data_warehouse/solvimm.db/netflix_rating\", 'overwrite')\n",
        "\n",
        "  return netflix_rating"
      ],
      "metadata": {
        "id": "PiZ8JnVzN9dn"
      },
      "execution_count": 25,
      "outputs": []
    },
    {
      "cell_type": "code",
      "source": [
        "def netflix_transform_movies_titles ():\n",
        "\n",
        "  \"\"\" \n",
        "  Transform the netflix movies. Create a spark dataframe and load the netflix movies data indo the Warehouse.\n",
        "  :param : \n",
        "  :return: A spark dataframe with netflix movies transform dataset.\n",
        "  \"\"\"\n",
        "\n",
        "  schema_movies = StructType([StructField(\"movie_id\",StringType(),True), \n",
        "                            StructField(\"year_release\",IntegerType(),True),\n",
        "                            StructField(\"title\",StringType(),True) ])\n",
        "  \n",
        "  netflix_movies = spark.read.option(\"delimiter\",\",\").schema(schema_movies).csv(PATH_NETFLIX_MOVIES)\n",
        "  netflix_movies.write.option(\"header\",\"True\").csv(PATH_OUTPUT+\"/data_warehouse/solvimm.db/netflix_movie_titles\", 'overwrite')\n",
        "\n",
        "  return netflix_movies\n"
      ],
      "metadata": {
        "id": "PnPama-rgcUS"
      },
      "execution_count": 26,
      "outputs": []
    },
    {
      "cell_type": "markdown",
      "source": [
        "# Main"
      ],
      "metadata": {
        "id": "2DBQChfBi6bM"
      }
    },
    {
      "cell_type": "code",
      "source": [
        "if __name__ == \"__main__\":\n",
        "    \n",
        "    print(f\"Oi ! Vamos iniciar o processo de ETL\")\n",
        "    print(f\"É importante que todos dados iniciais estajam na pasta raiz\")\n",
        "    \n",
        "    try:\n",
        "      print(f\"Iniciando o processo de transformação dos dados da Amazon\")\n",
        "      amazon_data = amazon_transform_load()\n",
        "      print(f\"Veja os dados Amazon abaixo. Estes dados já estão no Warehouse! Have fun!\")\n",
        "      amazon_data.show()\n",
        "    except:\n",
        "      print(f\"Error so processar dados da Amazon\")\n",
        "    \n",
        "    try:\n",
        "      print(f\"Iniciando o processo de transformação dos dados da Netflix\")\n",
        "      netflix_rating_data = netflix_transform_load()\n",
        "      print(f\"Veja os Rating Data da Netflix abaixo. Estes dados já estão no Warehouse! Have fun!\")\n",
        "      netflix_rating_data.show()\n",
        "      print(f\"Agora vamos caregar a lista de filmes da Netflix\")\n",
        "      netflix_movies = netflix_transform_movies_titles()\n",
        "      print(f\"Pronto! Veja abaixo a lista de fimes da Netflix. Estes dados já estão no Warehouse! Have fun!\")\n",
        "      netflix_movies.show()\n",
        "    except:\n",
        "      print(f\"Error so processar dados da Netflix\")\n"
      ],
      "metadata": {
        "id": "CnZY-YNvi5Fg",
        "colab": {
          "base_uri": "https://localhost:8080/"
        },
        "outputId": "10d2b2b4-b4a5-49a7-88ba-43280d64a69a"
      },
      "execution_count": 27,
      "outputs": [
        {
          "output_type": "stream",
          "name": "stdout",
          "text": [
            "Oi ! Vamos iniciar o processo de ETL\n",
            "É importante que todos dados iniciais estajam na pasta raiz\n",
            "Iniciando o processo de transformação dos dados da Amazon\n",
            "Veja os dados Amazon abaixo. Estes dados já estão no Warehouse! Have fun!\n",
            "+--------------------+-----------+\n",
            "|       product_title|star_rating|\n",
            "+--------------------+-----------+\n",
            "|Enlightened: Seas...|          5|\n",
            "|             Vicious|          5|\n",
            "|         After Words|          4|\n",
            "|Masterpiece: Insp...|          5|\n",
            "|   On The Waterfront|          5|\n",
            "|Rick and Morty Se...|          5|\n",
            "|      Africa Screams|          4|\n",
            "| Entourage: Season 7|          3|\n",
            "|Catastrophe - Sea...|          2|\n",
            "|The Worricker Tri...|          3|\n",
            "|Mr. Selfridge, Se...|          5|\n",
            "|  Five Branded Women|          5|\n",
            "|Downton Abbey Sea...|          4|\n",
            "|    Extant, Season 1|          5|\n",
            "|            Casanova|          1|\n",
            "|Boardwalk Empire ...|          1|\n",
            "|      Reunion Part 2|          5|\n",
            "|Catastrophe - Sea...|          3|\n",
            "|      Grimm Season 1|          4|\n",
            "|Catastrophe - Sea...|          5|\n",
            "+--------------------+-----------+\n",
            "only showing top 20 rows\n",
            "\n",
            "Iniciando o processo de transformação dos dados da Netflix\n",
            "Opening file: /content/drive/MyDrive/Solvimm/neteflix_data/combined_data_1.txt\n",
            "Opening file: /content/drive/MyDrive/Solvimm/neteflix_data/combined_data_2.txt\n",
            "Opening file: /content/drive/MyDrive/Solvimm/neteflix_data/combined_data_3.txt\n",
            "Opening file: /content/drive/MyDrive/Solvimm/neteflix_data/combined_data_4.txt\n",
            "Pre-processing is done\n",
            "Veja os Rating Data da Netflix abaixo. Estes dados já estão no Warehouse! Have fun!\n",
            "+---------+------------+-------+----------+\n",
            "|movie_ids|customer_ids|ratings|     dates|\n",
            "+---------+------------+-------+----------+\n",
            "|        1|     1488844|      3|2005-09-06|\n",
            "|        1|      822109|      5|2005-05-13|\n",
            "|        1|      885013|      4|2005-10-19|\n",
            "|        1|       30878|      4|2005-12-26|\n",
            "|        1|      823519|      3|2004-05-03|\n",
            "|        1|      893988|      3|2005-11-17|\n",
            "|        1|      124105|      4|2004-08-05|\n",
            "|        1|     1248029|      3|2004-04-22|\n",
            "|        1|     1842128|      4|2004-05-09|\n",
            "|        1|     2238063|      3|2005-05-11|\n",
            "|        1|     1503895|      4|2005-05-19|\n",
            "|        1|     2207774|      5|2005-06-06|\n",
            "|        1|     2590061|      3|2004-08-12|\n",
            "|        1|        2442|      3|2004-04-14|\n",
            "|        1|      543865|      4|2004-05-28|\n",
            "|        1|     1209119|      4|2004-03-23|\n",
            "|        1|      804919|      4|2004-06-10|\n",
            "|        1|     1086807|      3|2004-12-28|\n",
            "|        1|     1711859|      4|2005-05-08|\n",
            "|        1|      372233|      5|2005-11-23|\n",
            "+---------+------------+-------+----------+\n",
            "only showing top 20 rows\n",
            "\n",
            "Agora vamos caregar a lista de filmes da Netflix\n",
            "Pronto! Veja abaixo a lista de fimes da Netflix. Estes dados já estão no Warehouse! Have fun!\n",
            "+--------+------------+--------------------+\n",
            "|movie_id|year_release|               title|\n",
            "+--------+------------+--------------------+\n",
            "|       1|        2003|     Dinosaur Planet|\n",
            "|       2|        2004|Isle of Man TT 20...|\n",
            "|       3|        1997|           Character|\n",
            "|       4|        1994|Paula Abdul's Get...|\n",
            "|       5|        2004|The Rise and Fall...|\n",
            "|       6|        1997|                Sick|\n",
            "|       7|        1992|               8 Man|\n",
            "|       8|        2004|What the #$*! Do ...|\n",
            "|       9|        1991|Class of Nuke 'Em...|\n",
            "|      10|        2001|             Fighter|\n",
            "|      11|        1999|Full Frame: Docum...|\n",
            "|      12|        1947|My Favorite Brunette|\n",
            "|      13|        2003|Lord of the Rings...|\n",
            "|      14|        1982|  Nature: Antarctica|\n",
            "|      15|        1988|Neil Diamond: Gre...|\n",
            "|      16|        1996|           Screamers|\n",
            "|      17|        2005|           7 Seconds|\n",
            "|      18|        1994|    Immortal Beloved|\n",
            "|      19|        2000|By Dawn's Early L...|\n",
            "|      20|        1972|     Seeta Aur Geeta|\n",
            "+--------+------------+--------------------+\n",
            "only showing top 20 rows\n",
            "\n"
          ]
        }
      ]
    },
    {
      "cell_type": "markdown",
      "source": [
        "# Respostas das perguntas de negócios"
      ],
      "metadata": {
        "id": "WA5-tw1WilWE"
      }
    },
    {
      "cell_type": "markdown",
      "source": [
        "## A.Quantos filmes estão disponíveis na Amazon?\n"
      ],
      "metadata": {
        "id": "XOCQ61cf9qi4"
      }
    },
    {
      "cell_type": "markdown",
      "source": [
        "### Vejamos algumas formos de responder essa pergunta de negocio usando alguns caminho Pysarpk  "
      ],
      "metadata": {
        "id": "ibeowosEBH2l"
      }
    },
    {
      "cell_type": "code",
      "source": [
        "amazon_data.show(3)"
      ],
      "metadata": {
        "colab": {
          "base_uri": "https://localhost:8080/"
        },
        "id": "GCb5xSHy9nQk",
        "outputId": "db702331-38de-4496-f1c4-ba230211b729"
      },
      "execution_count": 28,
      "outputs": [
        {
          "output_type": "stream",
          "name": "stdout",
          "text": [
            "+--------------------+-----------+\n",
            "|       product_title|star_rating|\n",
            "+--------------------+-----------+\n",
            "|Enlightened: Seas...|          5|\n",
            "|             Vicious|          5|\n",
            "|         After Words|          4|\n",
            "+--------------------+-----------+\n",
            "only showing top 3 rows\n",
            "\n"
          ]
        }
      ]
    },
    {
      "cell_type": "code",
      "source": [
        "total_amazon = amazon_data.dropDuplicates([\"product_title\"]).count()\n",
        "\n",
        "print( \"O total de filmes na Amazon é {} .\".format(total_amazon))"
      ],
      "metadata": {
        "colab": {
          "base_uri": "https://localhost:8080/"
        },
        "id": "oFtEfICd-i3H",
        "outputId": "623b93e1-c5da-4f56-f6f6-ca65ed51a5ef"
      },
      "execution_count": 29,
      "outputs": [
        {
          "output_type": "stream",
          "name": "stdout",
          "text": [
            "O total de filmes na Amazon é 407777 .\n"
          ]
        }
      ]
    },
    {
      "cell_type": "code",
      "source": [
        "total_amazon = amazon_data.select(\"product_title\").distinct().count()\n",
        "\n",
        "print( \"O total de filmes na Amazon é {} .\".format(total_amazon))"
      ],
      "metadata": {
        "colab": {
          "base_uri": "https://localhost:8080/"
        },
        "id": "GtcldbTl_uj1",
        "outputId": "d073bec9-7066-4cee-dbef-1cb1558094a5"
      },
      "execution_count": 30,
      "outputs": [
        {
          "output_type": "stream",
          "name": "stdout",
          "text": [
            "O total de filmes na Amazon é 407777 .\n"
          ]
        }
      ]
    },
    {
      "cell_type": "markdown",
      "source": [
        "#### Usando SQL QUEREY com a API SQL do Pyspark"
      ],
      "metadata": {
        "id": "xQYiTuU3CIeZ"
      }
    },
    {
      "cell_type": "code",
      "source": [
        "amazon_data.createGlobalTempView(\"amazon_data\")\n",
        "spark.sql(\"SELECT Count(Distinct(product_title)) FROM global_temp.amazon_data\").show()"
      ],
      "metadata": {
        "colab": {
          "base_uri": "https://localhost:8080/"
        },
        "id": "FUthV0GHAEYh",
        "outputId": "e4dfa836-a0b2-45b6-d14c-bf35d4c2017e"
      },
      "execution_count": 31,
      "outputs": [
        {
          "output_type": "stream",
          "name": "stdout",
          "text": [
            "+-----------------------------+\n",
            "|count(DISTINCT product_title)|\n",
            "+-----------------------------+\n",
            "|                       407777|\n",
            "+-----------------------------+\n",
            "\n"
          ]
        }
      ]
    },
    {
      "cell_type": "markdown",
      "source": [
        "## B. Quantos filmes estão disponíveis na Netflix?"
      ],
      "metadata": {
        "id": "Sl2OTi4PCgHb"
      }
    },
    {
      "cell_type": "markdown",
      "source": [
        "### Vejamos algumas formos de responder essa pergunta de negocio usando alguns caminho Pysarpk  "
      ],
      "metadata": {
        "id": "f4I9fHl7Cuq5"
      }
    },
    {
      "cell_type": "code",
      "source": [
        "netflix_movies.show(3)"
      ],
      "metadata": {
        "colab": {
          "base_uri": "https://localhost:8080/"
        },
        "id": "ErK3C8vqC4_u",
        "outputId": "8010c063-3b7c-4ba3-f220-e217e770b6a7"
      },
      "execution_count": null,
      "outputs": [
        {
          "output_type": "stream",
          "name": "stdout",
          "text": [
            "+--------+------------+--------------------+\n",
            "|movie_id|year_release|               title|\n",
            "+--------+------------+--------------------+\n",
            "|       1|        2003|     Dinosaur Planet|\n",
            "|       2|        2004|Isle of Man TT 20...|\n",
            "|       3|        1997|           Character|\n",
            "+--------+------------+--------------------+\n",
            "only showing top 3 rows\n",
            "\n"
          ]
        }
      ]
    },
    {
      "cell_type": "code",
      "source": [
        "netflix_movies.dropDuplicates([\"movie_id\"]).count()\n",
        "\n",
        "total_netflix = netflix_movies.dropDuplicates([\"movie_id\"]).count()\n",
        "\n",
        "print( \"O total de filmes na Netflix é {}.\".format(total_netflix))"
      ],
      "metadata": {
        "colab": {
          "base_uri": "https://localhost:8080/"
        },
        "id": "MYkfdV4fCyEr",
        "outputId": "7850b136-aa90-4ca9-dd91-14ef1ebc9f6d"
      },
      "execution_count": null,
      "outputs": [
        {
          "output_type": "stream",
          "name": "stdout",
          "text": [
            "O total de filmes na Netflix é 17770 .\n"
          ]
        }
      ]
    },
    {
      "cell_type": "markdown",
      "source": [
        "#### Usando SQL QUEREY com a API SQL do Pyspark"
      ],
      "metadata": {
        "id": "e5O8KE2tGvps"
      }
    },
    {
      "cell_type": "code",
      "source": [
        "#netflix_movies.createGlobalTempView(\"netflix_movies\")\n",
        "spark.sql(\"SELECT Count(Distinct(movie_id)) FROM global_temp.netflix_movies\").show()"
      ],
      "metadata": {
        "colab": {
          "base_uri": "https://localhost:8080/"
        },
        "id": "eZGhKeyXG8A-",
        "outputId": "d991ba26-2592-4bef-d4fe-859869de3ae6"
      },
      "execution_count": null,
      "outputs": [
        {
          "output_type": "stream",
          "name": "stdout",
          "text": [
            "+------------------------+\n",
            "|count(DISTINCT movie_id)|\n",
            "+------------------------+\n",
            "|                   17770|\n",
            "+------------------------+\n",
            "\n"
          ]
        }
      ]
    },
    {
      "cell_type": "markdown",
      "source": [
        "## C. Dos filmes disponíveis na Amazon, quantos % estão disponíveis na Netflix?"
      ],
      "metadata": {
        "id": "l4B-KEiZDBWX"
      }
    },
    {
      "cell_type": "markdown",
      "source": [
        "#### Vejamos algumas formos de responder essa pergunta de negocio usando alguns caminho Pysarpk"
      ],
      "metadata": {
        "id": "RRNS0CQAEfQo"
      }
    },
    {
      "cell_type": "code",
      "source": [
        "amazon_data.show(3)"
      ],
      "metadata": {
        "colab": {
          "base_uri": "https://localhost:8080/"
        },
        "id": "mtVIbNe2Hab4",
        "outputId": "a5ffd248-97d0-497a-de07-6225a87d1a7c"
      },
      "execution_count": null,
      "outputs": [
        {
          "output_type": "stream",
          "name": "stdout",
          "text": [
            "+--------------------+-----------+\n",
            "|       product_title|star_rating|\n",
            "+--------------------+-----------+\n",
            "|Enlightened: Seas...|          5|\n",
            "|             Vicious|          5|\n",
            "|         After Words|          4|\n",
            "+--------------------+-----------+\n",
            "only showing top 3 rows\n",
            "\n"
          ]
        }
      ]
    },
    {
      "cell_type": "code",
      "source": [
        "amazon_title = amazon_data.select(\"product_title\")"
      ],
      "metadata": {
        "id": "4O98HN6QID6Q"
      },
      "execution_count": null,
      "outputs": []
    },
    {
      "cell_type": "code",
      "source": [
        "netflix_titles = netflix_movies.select(\"title\")"
      ],
      "metadata": {
        "id": "VYbDnU8QE-xn"
      },
      "execution_count": null,
      "outputs": []
    },
    {
      "cell_type": "code",
      "source": [
        "film_in_both = netflix_titles.join(amazon_title.dropDuplicates(), [amazon_title.product_title == netflix_titles.title], how = \"inner\").count()\n",
        "film_on_amazon = amazon_data.dropDuplicates([\"product_title\"]).count()\n",
        "\n",
        "print( \"O percentual dos filmes disponíveis na Amazon que estão disponiveis no Netflix é {:.2%}.\".format(film_in_both/film_on_amazon))\n"
      ],
      "metadata": {
        "colab": {
          "base_uri": "https://localhost:8080/"
        },
        "id": "ZH99CH2oDIT9",
        "outputId": "d47bf8ef-157c-46b7-de18-df2711a3d223"
      },
      "execution_count": null,
      "outputs": [
        {
          "output_type": "stream",
          "name": "stdout",
          "text": [
            "O percentual dos filmes disponíveis na Amazon que estão disponiveis no Netflix é 2.86%.\n"
          ]
        }
      ]
    },
    {
      "cell_type": "markdown",
      "source": [
        "#### Usando SQL QUEREY com a API SQL do Pyspark"
      ],
      "metadata": {
        "id": "okQxndU2KiHA"
      }
    },
    {
      "cell_type": "code",
      "source": [
        "# spark.sql(\" SELECT ( Count(Distinct(movie_id))/SELECT( Count(Distinct(product_title)) ), FROM amazon_data ), FROM netflix_movies INNER JOIN amazon_data.product_title ON netflix_movies.title = global_temp.amazon_data.product_title ;\" ).show()\n",
        "\n",
        "print( \"O percentual dos filmes disponíveis na Amazon que estão disponiveis no Netflix é {:.2%}.\".format(film_in_both/film_on_amazon))"
      ],
      "metadata": {
        "colab": {
          "base_uri": "https://localhost:8080/"
        },
        "id": "FebCH6J1LLVC",
        "outputId": "403d6b80-f125-4eba-cb4a-8b331a0be568"
      },
      "execution_count": null,
      "outputs": [
        {
          "output_type": "stream",
          "name": "stdout",
          "text": [
            "O percentual dos filmes disponíveis na Amazon que estão disponiveis no Netflix é 2.86%.\n"
          ]
        }
      ]
    },
    {
      "cell_type": "markdown",
      "source": [
        "## D. O quão perto a médias das notas dos filmes disponíveis na Amazon está dos filmes disponíveis na Netflix?"
      ],
      "metadata": {
        "id": "kreANuLtDIq5"
      }
    },
    {
      "cell_type": "markdown",
      "source": [
        "### Vejamos algumas formos de responder essa pergunta de negocio usando alguns caminho Pysarpk"
      ],
      "metadata": {
        "id": "iUYEIiSscPb0"
      }
    },
    {
      "cell_type": "code",
      "source": [
        "amazon_avg = amazon_data.agg(F.avg(\"star_rating\")).toPandas().iloc[0,0]"
      ],
      "metadata": {
        "id": "AJXacIS-QruD"
      },
      "execution_count": null,
      "outputs": []
    },
    {
      "cell_type": "code",
      "source": [
        "netflix_avg = netflix_rating_data.agg(F.avg(\"ratings\")).toPandas().iloc[0,0]"
      ],
      "metadata": {
        "id": "em-7fJvKRQOE"
      },
      "execution_count": null,
      "outputs": []
    },
    {
      "cell_type": "code",
      "source": [
        "print( \"A média das notas do filmes do Amazon é {:+.2} da media da Netflix.\".format(amazon_avg - netflix_avg))"
      ],
      "metadata": {
        "colab": {
          "base_uri": "https://localhost:8080/"
        },
        "id": "8OyW0PUeaiC0",
        "outputId": "5a7878a2-bcc0-4e41-b6ab-f3eb35ed13ef"
      },
      "execution_count": null,
      "outputs": [
        {
          "output_type": "stream",
          "name": "stdout",
          "text": [
            "A média das notas do filmes do Amazon é +0.65 da media da Netflix.\n"
          ]
        }
      ]
    },
    {
      "cell_type": "markdown",
      "source": [
        "#### Usando SQL QUEREY"
      ],
      "metadata": {
        "id": "b-6XZ6AabBtv"
      }
    },
    {
      "cell_type": "code",
      "source": [
        "diffrence = spark.sql(\" SELECT AVG(star_rating) - (SELECT AVG(ratings) FROM global_temp.netflix_rating_data) as difference \\\n",
        "            FROM  global_temp.amazon_data \")"
      ],
      "metadata": {
        "id": "YKI6qeCWSoho"
      },
      "execution_count": null,
      "outputs": []
    },
    {
      "cell_type": "code",
      "source": [
        "print( \"O percentual dos filmes disponíveis na Amazon que estão disponiveis no Netflix é {:.2}.\".format(amazon_avg - netflix_avg))"
      ],
      "metadata": {
        "colab": {
          "base_uri": "https://localhost:8080/"
        },
        "id": "yOOgfCVlWGQF",
        "outputId": "902ccf2c-5acd-4c98-8bbd-d416e3a19dcc"
      },
      "execution_count": null,
      "outputs": [
        {
          "output_type": "stream",
          "name": "stdout",
          "text": [
            "O percentual dos filmes disponíveis na Amazon que estão disponiveis no Netflix é 0.61.\n"
          ]
        }
      ]
    },
    {
      "cell_type": "markdown",
      "source": [
        "## E. Qual ano de lançamento possui mais filmes na Amazon?"
      ],
      "metadata": {
        "id": "g2J9Nx8WEJZS"
      }
    },
    {
      "cell_type": "markdown",
      "source": [
        "## F. Qual ano de lançamento possui mais filmes na Netflix?"
      ],
      "metadata": {
        "id": "eKkBn6GgEMe1"
      }
    },
    {
      "cell_type": "markdown",
      "source": [
        "### Vejamos algumas formos de responder essa pergunta de negocio usando alguns caminho Pysarpk"
      ],
      "metadata": {
        "id": "hdppGPLwdhl-"
      }
    },
    {
      "cell_type": "code",
      "source": [
        "Ano = netflix_movies.groupBy(\"year_release\").count().orderBy(\"count\", ascending= False).toPandas().iloc[0,0]\n",
        "print( \"O ano com a maior quantidade lançamentos é {:^.0f}.\".format(Ano))\n"
      ],
      "metadata": {
        "id": "uREbOTAOiDGZ"
      },
      "execution_count": null,
      "outputs": []
    },
    {
      "cell_type": "code",
      "source": [
        "spark.sql(\"SELECT year_release \\\n",
        "            FROM  global_temp. netflix_movies\\\n",
        "            GROUP BY year_release\\\n",
        "             ORDER BY  count(movie_id) DESC\\\n",
        "             limit 1\" ).show()"
      ],
      "metadata": {
        "colab": {
          "base_uri": "https://localhost:8080/"
        },
        "id": "nhNUqy1VEPAR",
        "outputId": "11b82ce0-e593-40e6-f612-7513cb5a742f"
      },
      "execution_count": null,
      "outputs": [
        {
          "output_type": "stream",
          "name": "stdout",
          "text": [
            "+------------+\n",
            "|year_release|\n",
            "+------------+\n",
            "|        2004|\n",
            "+------------+\n",
            "\n"
          ]
        }
      ]
    },
    {
      "cell_type": "markdown",
      "source": [
        "## G. Quais filmes que não estão disponíveis no catálogo da Netflix foram melhor avaliados (notas 4 e 5)?"
      ],
      "metadata": {
        "id": "Z3aUnEGWEPjs"
      }
    },
    {
      "cell_type": "markdown",
      "source": [
        "### Vejamos algumas formos de responder essa pergunta de negocio usando alguns caminho Pysarpk"
      ],
      "metadata": {
        "id": "74bvplpKh78g"
      }
    },
    {
      "cell_type": "code",
      "source": [
        "spark.sql(\"SELECT global_temp.amazon_data.product_title \\\n",
        "          FROM  global_temp.amazon_data\\\n",
        "          LEFT JOIN global_temp.netflix_movies\\\n",
        "          on global_temp.netflix_movies.title =  global_temp.amazon_data.product_title\\\n",
        "          Where global_temp.amazon_data.star_rating >=4\").show()"
      ],
      "metadata": {
        "colab": {
          "base_uri": "https://localhost:8080/"
        },
        "id": "JhjXwZKpfqBO",
        "outputId": "f2a89699-23be-4542-a753-dcb57cd1d1b2"
      },
      "execution_count": null,
      "outputs": [
        {
          "output_type": "stream",
          "name": "stdout",
          "text": [
            "+--------------------+\n",
            "|       product_title|\n",
            "+--------------------+\n",
            "|The Night They Sa...|\n",
            "|Hamlet / Kline, N...|\n",
            "|Nascar Dual Power...|\n",
            "|The Man From U.N....|\n",
            "|Cabaret Balkan - ...|\n",
            "|Wrinkles:in Need ...|\n",
            "|Ladies Club,the [...|\n",
            "|The Campitelli Ad...|\n",
            "|Return of the Jed...|\n",
            "|Texas Carnival [VHS]|\n",
            "|National Geograph...|\n",
            "| The Intruder Within|\n",
            "|       Robbery [VHS]|\n",
            "|Special Kids Spee...|\n",
            "|Arizona Bushwhack...|\n",
            "|101 Dalmatians [VHS]|\n",
            "|Tony Little's ONE...|\n",
            "|   Fever Pitch [VHS]|\n",
            "|Jigsaw Murders [VHS]|\n",
            "|Heroes Stand Alon...|\n",
            "+--------------------+\n",
            "only showing top 20 rows\n",
            "\n"
          ]
        }
      ]
    },
    {
      "cell_type": "markdown",
      "source": [
        "## H. Quais filmes que não estão disponíveis no catálogo da Netflix foram melhor avaliados (notas 4 e 5)?\n"
      ],
      "metadata": {
        "id": "CNpceo0HD8Va"
      }
    },
    {
      "cell_type": "code",
      "source": [
        "spark.sql(\"SELECT global_temp.amazon_data.product_title \\\n",
        "          FROM  global_temp.amazon_data\\\n",
        "          LEFT JOIN global_temp.netflix_movies\\\n",
        "          on global_temp.netflix_movies.title =  global_temp.amazon_data.product_title\\\n",
        "          Where global_temp.amazon_data.star_rating >=4\").show()"
      ],
      "metadata": {
        "colab": {
          "base_uri": "https://localhost:8080/"
        },
        "id": "d0GfTDbDHjt8",
        "outputId": "ef6c7bf2-d3c0-4021-a55d-c8de7511b488"
      },
      "execution_count": null,
      "outputs": [
        {
          "output_type": "stream",
          "name": "stdout",
          "text": [
            "+--------------------+\n",
            "|       product_title|\n",
            "+--------------------+\n",
            "|Enlightened: Seas...|\n",
            "|             Vicious|\n",
            "|         After Words|\n",
            "|Masterpiece: Insp...|\n",
            "|   On The Waterfront|\n",
            "|Rick and Morty Se...|\n",
            "|      Africa Screams|\n",
            "|Mr. Selfridge, Se...|\n",
            "|  Five Branded Women|\n",
            "|Downton Abbey Sea...|\n",
            "|    Extant, Season 1|\n",
            "|      Reunion Part 2|\n",
            "|      Grimm Season 1|\n",
            "|Catastrophe - Sea...|\n",
            "|     Bedtime Stories|\n",
            "|The Last Ship Sea...|\n",
            "|The Ambassador - ...|\n",
            "|      Bosch Season 1|\n",
            "| Lucky Number Slevin|\n",
            "|An American Girl:...|\n",
            "+--------------------+\n",
            "only showing top 20 rows\n",
            "\n"
          ]
        }
      ]
    }
  ],
  "metadata": {
    "colab": {
      "name": "Solvimm .ipynb",
      "provenance": [],
      "collapsed_sections": [
        "ZB0q_M_wXFxf",
        "w621djd0I9W0",
        "0GKiJBLzJRjZ",
        "QjuJE2aXB3o2",
        "xQYiTuU3CIeZ",
        "gmVfo8idCyqu",
        "e5O8KE2tGvps",
        "RRNS0CQAEfQo",
        "okQxndU2KiHA",
        "b-6XZ6AabBtv"
      ]
    },
    "kernelspec": {
      "display_name": "Python 3",
      "name": "python3"
    },
    "language_info": {
      "name": "python"
    }
  },
  "nbformat": 4,
  "nbformat_minor": 0
}